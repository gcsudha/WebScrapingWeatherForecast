{
 "cells": [
  {
   "cell_type": "code",
   "execution_count": 1,
   "id": "israeli-lexington",
   "metadata": {},
   "outputs": [],
   "source": [
    "import pandas as pd\n",
    "import numpy as np\n",
    "import datetime\n",
    "import requests\n",
    "from bs4 import BeautifulSoup"
   ]
  },
  {
   "cell_type": "markdown",
   "id": "alive-thriller",
   "metadata": {},
   "source": [
    "### Web scraping for rain forecast"
   ]
  },
  {
   "cell_type": "code",
   "execution_count": 11,
   "id": "permanent-booking",
   "metadata": {},
   "outputs": [
    {
     "name": "stdout",
     "output_type": "stream",
     "text": [
      "['Othello, Washington, USA 14 day weather forecast', 'Prosser, Washington, USA 14 day weather forecast', 'Tri-Cities, Washington, USA 14 day weather forecast']\n"
     ]
    }
   ],
   "source": [
    "url_station = [\"https://www.timeanddate.com/weather/@5805879/ext\",\"https://www.timeanddate.com/weather/@5807487/ext\",\"https://www.timeanddate.com/weather/@7289169/ext\"  ]#urls for three locations\n",
    "Data = []#empty list to append data\n",
    "Station_info = []#empty list to append weather stations\n",
    "\n",
    "for i in url_station:\n",
    "    file = requests.get(i)#use request library to go webpage \n",
    "    soup = BeautifulSoup(file.content, \"lxml\")# use beaufifulSoup to get data from xml page\n",
    "    table = soup.find('table', attrs = {'id': 'wt-ext'})#extract table from the webpage\n",
    "    station = soup.title.text# return the title for each web page\n",
    "    Station_info.append(station)# append web info\n",
    "    \n",
    "    for tr in table.find('tbody').find_all('tr'):#find 'tr' in the table body(each 'tr' represents the tablerow)\n",
    "        dict = {}#empty dictionary\n",
    "        dict['Date'] = tr.find('th').text#extract date i.e. table header\n",
    "        all_td = tr.find_all('td')#find all columns ie table data/cell\n",
    "        dict['PrecProb'] = all_td[7].text#extract text in 7th column which is probability of precipitation and add to dict\n",
    "        dict['PrecAmount'] = all_td[8].text#extract amount of precipitation\n",
    "        Data.append(dict)#append\n",
    "        \n",
    "print(Station_info)\n",
    "#print(Data)"
   ]
  },
  {
   "cell_type": "code",
   "execution_count": 12,
   "id": "favorite-healing",
   "metadata": {},
   "outputs": [
    {
     "name": "stdout",
     "output_type": "stream",
     "text": [
      "(45, 4)\n"
     ]
    },
    {
     "data": {
      "text/html": [
       "<div>\n",
       "<style scoped>\n",
       "    .dataframe tbody tr th:only-of-type {\n",
       "        vertical-align: middle;\n",
       "    }\n",
       "\n",
       "    .dataframe tbody tr th {\n",
       "        vertical-align: top;\n",
       "    }\n",
       "\n",
       "    .dataframe thead th {\n",
       "        text-align: right;\n",
       "    }\n",
       "</style>\n",
       "<table border=\"1\" class=\"dataframe\">\n",
       "  <thead>\n",
       "    <tr style=\"text-align: right;\">\n",
       "      <th></th>\n",
       "      <th>Date</th>\n",
       "      <th>PrecProb</th>\n",
       "      <th>PrecAmount</th>\n",
       "      <th>Station</th>\n",
       "    </tr>\n",
       "  </thead>\n",
       "  <tbody>\n",
       "    <tr>\n",
       "      <th>0</th>\n",
       "      <td>FriApr 9</td>\n",
       "      <td>1%</td>\n",
       "      <td>-</td>\n",
       "      <td>Othello</td>\n",
       "    </tr>\n",
       "    <tr>\n",
       "      <th>1</th>\n",
       "      <td>SatApr 10</td>\n",
       "      <td>2%</td>\n",
       "      <td>-</td>\n",
       "      <td>Othello</td>\n",
       "    </tr>\n",
       "    <tr>\n",
       "      <th>2</th>\n",
       "      <td>SunApr 11</td>\n",
       "      <td>1%</td>\n",
       "      <td>-</td>\n",
       "      <td>Othello</td>\n",
       "    </tr>\n",
       "    <tr>\n",
       "      <th>3</th>\n",
       "      <td>MonApr 12</td>\n",
       "      <td>46%</td>\n",
       "      <td>0.02\"</td>\n",
       "      <td>Othello</td>\n",
       "    </tr>\n",
       "    <tr>\n",
       "      <th>4</th>\n",
       "      <td>TueApr 13</td>\n",
       "      <td>5%</td>\n",
       "      <td>-</td>\n",
       "      <td>Othello</td>\n",
       "    </tr>\n",
       "  </tbody>\n",
       "</table>\n",
       "</div>"
      ],
      "text/plain": [
       "        Date PrecProb PrecAmount  Station\n",
       "0   FriApr 9       1%          -  Othello\n",
       "1  SatApr 10       2%          -  Othello\n",
       "2  SunApr 11       1%          -  Othello\n",
       "3  MonApr 12      46%      0.02\"  Othello\n",
       "4  TueApr 13       5%          -  Othello"
      ]
     },
     "execution_count": 12,
     "metadata": {},
     "output_type": "execute_result"
    }
   ],
   "source": [
    "Station= ['Othello', 'Prosser', 'TriCities']\n",
    "df_forecast = pd.DataFrame(Data)\n",
    "df_forecast['Station'] = np.repeat(Station, repeats = (df_forecast.shape[0])/(np.array(Station).shape[0]))\n",
    "print(df_forecast.shape)\n",
    "df_forecast.head()"
   ]
  },
  {
   "cell_type": "code",
   "execution_count": 13,
   "id": "decimal-torture",
   "metadata": {
    "scrolled": true
   },
   "outputs": [
    {
     "data": {
      "text/html": [
       "<div>\n",
       "<style scoped>\n",
       "    .dataframe tbody tr th:only-of-type {\n",
       "        vertical-align: middle;\n",
       "    }\n",
       "\n",
       "    .dataframe tbody tr th {\n",
       "        vertical-align: top;\n",
       "    }\n",
       "\n",
       "    .dataframe thead th {\n",
       "        text-align: right;\n",
       "    }\n",
       "</style>\n",
       "<table border=\"1\" class=\"dataframe\">\n",
       "  <thead>\n",
       "    <tr style=\"text-align: right;\">\n",
       "      <th></th>\n",
       "      <th>Date</th>\n",
       "      <th>PrecProb</th>\n",
       "      <th>PrecAmount</th>\n",
       "      <th>Station</th>\n",
       "      <th>Month</th>\n",
       "      <th>Day</th>\n",
       "    </tr>\n",
       "  </thead>\n",
       "  <tbody>\n",
       "    <tr>\n",
       "      <th>0</th>\n",
       "      <td>Apr 9</td>\n",
       "      <td>1</td>\n",
       "      <td>0.00</td>\n",
       "      <td>Othello</td>\n",
       "      <td>Apr</td>\n",
       "      <td>9</td>\n",
       "    </tr>\n",
       "    <tr>\n",
       "      <th>1</th>\n",
       "      <td>Apr 10</td>\n",
       "      <td>2</td>\n",
       "      <td>0.00</td>\n",
       "      <td>Othello</td>\n",
       "      <td>Apr</td>\n",
       "      <td>10</td>\n",
       "    </tr>\n",
       "    <tr>\n",
       "      <th>2</th>\n",
       "      <td>Apr 11</td>\n",
       "      <td>1</td>\n",
       "      <td>0.00</td>\n",
       "      <td>Othello</td>\n",
       "      <td>Apr</td>\n",
       "      <td>11</td>\n",
       "    </tr>\n",
       "    <tr>\n",
       "      <th>3</th>\n",
       "      <td>Apr 12</td>\n",
       "      <td>46</td>\n",
       "      <td>0.02</td>\n",
       "      <td>Othello</td>\n",
       "      <td>Apr</td>\n",
       "      <td>12</td>\n",
       "    </tr>\n",
       "    <tr>\n",
       "      <th>4</th>\n",
       "      <td>Apr 13</td>\n",
       "      <td>5</td>\n",
       "      <td>0.00</td>\n",
       "      <td>Othello</td>\n",
       "      <td>Apr</td>\n",
       "      <td>13</td>\n",
       "    </tr>\n",
       "  </tbody>\n",
       "</table>\n",
       "</div>"
      ],
      "text/plain": [
       "     Date  PrecProb  PrecAmount  Station Month Day\n",
       "0   Apr 9         1        0.00  Othello   Apr   9\n",
       "1  Apr 10         2        0.00  Othello   Apr  10\n",
       "2  Apr 11         1        0.00  Othello   Apr  11\n",
       "3  Apr 12        46        0.02  Othello   Apr  12\n",
       "4  Apr 13         5        0.00  Othello   Apr  13"
      ]
     },
     "execution_count": 13,
     "metadata": {},
     "output_type": "execute_result"
    }
   ],
   "source": [
    "df_forecast['Date'] = df_forecast['Date'].str[3:]#remove first three characters i.e. days info\n",
    "df_forecast1 = df_forecast.join(df_forecast['Date'].str.split(' ', 1, expand = True).rename(columns = {0:'Month', 1:'Day'}))#split Date column to month and Day\n",
    "df_forecast1['PrecProb'] = (df_forecast1['PrecProb'].str.replace('%', '')).astype(int)#remove % and change to integer\n",
    "df_forecast1['PrecAmount'] = df_forecast1['PrecAmount'].str.replace('\"', '').replace('-', '0.00').astype(float)#remove \" and - form PrecAmount column\n",
    "df_forecast1.head()"
   ]
  },
  {
   "cell_type": "code",
   "execution_count": 15,
   "id": "scientific-personality",
   "metadata": {},
   "outputs": [
    {
     "data": {
      "text/html": [
       "<div>\n",
       "<style scoped>\n",
       "    .dataframe tbody tr th:only-of-type {\n",
       "        vertical-align: middle;\n",
       "    }\n",
       "\n",
       "    .dataframe tbody tr th {\n",
       "        vertical-align: top;\n",
       "    }\n",
       "\n",
       "    .dataframe thead th {\n",
       "        text-align: right;\n",
       "    }\n",
       "</style>\n",
       "<table border=\"1\" class=\"dataframe\">\n",
       "  <thead>\n",
       "    <tr style=\"text-align: right;\">\n",
       "      <th></th>\n",
       "      <th>Station</th>\n",
       "      <th>Month</th>\n",
       "      <th>RainyDays</th>\n",
       "    </tr>\n",
       "  </thead>\n",
       "  <tbody>\n",
       "  </tbody>\n",
       "</table>\n",
       "</div>"
      ],
      "text/plain": [
       "Empty DataFrame\n",
       "Columns: [Station, Month, RainyDays]\n",
       "Index: []"
      ]
     },
     "execution_count": 15,
     "metadata": {},
     "output_type": "execute_result"
    }
   ],
   "source": [
    "forecast_grouped = df_forecast1[(df_forecast1['PrecAmount'] >0.04) & (df_forecast1['PrecProb'] >30)].groupby(['Station', 'Month']).size().reset_index(name = 'RainyDays')\n",
    "forecast_grouped.head()"
   ]
  },
  {
   "cell_type": "code",
   "execution_count": null,
   "id": "northern-species",
   "metadata": {},
   "outputs": [],
   "source": [
    "#(\"https://www.timeanddate.com/weather/@5805879/ext\")# Othello\n",
    "# (https://www.timeanddate.com/weather/@5807487/ext)# Prosser\n",
    "# (https://www.timeanddate.com/weather/@7289169/ext)# Tricities"
   ]
  }
 ],
 "metadata": {
  "kernelspec": {
   "display_name": "Python 3",
   "language": "python",
   "name": "python3"
  },
  "language_info": {
   "codemirror_mode": {
    "name": "ipython",
    "version": 3
   },
   "file_extension": ".py",
   "mimetype": "text/x-python",
   "name": "python",
   "nbconvert_exporter": "python",
   "pygments_lexer": "ipython3",
   "version": "3.7.7"
  }
 },
 "nbformat": 4,
 "nbformat_minor": 5
}
